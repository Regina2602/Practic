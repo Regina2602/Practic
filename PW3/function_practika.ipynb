{
 "cells": [
  {
   "cell_type": "markdown",
   "metadata": {},
   "source": [
    "Вы работаете секретарем и вам постоянно приходят различные документы. Вы должны быть очень внимательны, чтобы не потерять ни один документ. Каталог документов хранится в следующем виде:"
   ]
  },
  {
   "cell_type": "code",
   "execution_count": 1,
   "metadata": {},
   "outputs": [],
   "source": [
    "documents = [\n",
    "    {'type': 'passport', 'number': '2207 876234', 'name': 'Василий Гупкин'},\n",
    "    {'type': 'invoice', 'number': '11-2', 'name': 'Геннадий Покемонов'},\n",
    "    {'type': 'insurance', 'number': '10006', 'name': 'Аристарх Павлов'}\n",
    "]"
   ]
  },
  {
   "cell_type": "code",
   "execution_count": 2,
   "metadata": {},
   "outputs": [],
   "source": [
    "def print_documents(documents):\n",
    "    for doc in documents:\n",
    "        print(doc)"
   ]
  },
  {
   "cell_type": "markdown",
   "metadata": {},
   "source": [
    "Перечень полок, на которых находятся документы хранится в следующем виде:"
   ]
  },
  {
   "cell_type": "code",
   "execution_count": 3,
   "metadata": {},
   "outputs": [],
   "source": [
    "directories = {\n",
    "    '1': ['2207 876234', '11-2'],\n",
    "    '2': ['10006'],\n",
    "    '3': []\n",
    "}"
   ]
  },
  {
   "cell_type": "code",
   "execution_count": 4,
   "metadata": {},
   "outputs": [],
   "source": [
    "def print_directories(directories):\n",
    "    for key,value in directories.items():\n",
    "        print(key,value)"
   ]
  },
  {
   "cell_type": "code",
   "execution_count": 5,
   "metadata": {},
   "outputs": [],
   "source": [
    "def checkName(number):\n",
    "    for dict in documents:\n",
    "        if dict['number']==str(number):\n",
    "             print(dict['name'])\n",
    "\n",
    "\n",
    "    "
   ]
  },
  {
   "cell_type": "code",
   "execution_count": 6,
   "metadata": {},
   "outputs": [],
   "source": [
    "def checkShelf (number):\n",
    "    ch=0\n",
    "    for item in directories.items():\n",
    "        if str(number) in item[1]:\n",
    "            print('Полка- ',item[0])\n",
    "            ch=1\n",
    "    if ch==0:\n",
    "        print('Не найдено')\n"
   ]
  },
  {
   "cell_type": "code",
   "execution_count": 7,
   "metadata": {},
   "outputs": [],
   "source": [
    "def showList():\n",
    "    outList=\"\"\n",
    "    for dict in documents:\n",
    "        outList+=dict['type']+' \"'+dict['number']+'\" \"'+dict['name']+'\" ''\\n'\n",
    "    print(outList)\n",
    "\n",
    "\n",
    "        "
   ]
  },
  {
   "cell_type": "code",
   "execution_count": 8,
   "metadata": {},
   "outputs": [],
   "source": [
    "def check(key):\n",
    "    for el in directories:\n",
    "        if el==str(key):\n",
    "            return False\n",
    "    return True"
   ]
  },
  {
   "cell_type": "code",
   "execution_count": 9,
   "metadata": {},
   "outputs": [],
   "source": [
    "def addShelf(key):\n",
    "    if check(key):\n",
    "        directories[key]=[]\n",
    "        print('Обновленные полки')\n",
    "        print(directories)\n",
    "    else:\n",
    "        print(\"Данная полка уже существует\")\n"
   ]
  },
  {
   "cell_type": "code",
   "execution_count": 10,
   "metadata": {},
   "outputs": [],
   "source": [
    "def delete(number):\n",
    "    for numb, docum in enumerate(documents):\n",
    "        if str(number) == docum['number']:\n",
    "            del documents[numb]\n",
    "            break\n",
    "    else:\n",
    "        print( 'Документ не найден')\n",
    "    \n",
    "    for value in directories.values():\n",
    "        if str(number) in value:\n",
    "            value.remove(str(number)) \n",
    "            print('Документ удален') \n"
   ]
  },
  {
   "cell_type": "code",
   "execution_count": 11,
   "metadata": {},
   "outputs": [],
   "source": [
    "def checkShelf_for_doc(number):\n",
    "    if number not in directories:\n",
    "        return True\n",
    "    return False"
   ]
  },
  {
   "cell_type": "code",
   "execution_count": 12,
   "metadata": {},
   "outputs": [],
   "source": [
    "def move(numbDoc,numbShelf):\n",
    "    ch=0\n",
    "    if checkShelf_for_doc(numbShelf):\n",
    "        print( 'Такой полки нет')\n",
    "    else:\n",
    "        for key, value in directories.items():\n",
    "            if numbDoc in value:\n",
    "                directories[numbShelf] += [numbDoc]\n",
    "                value.remove(numbDoc)\n",
    "                ch=1\n",
    "                print('Документ был успешно перенесен')\n",
    "                break\n",
    "    if ch==0:\n",
    "        print( 'Документ не найден')"
   ]
  },
  {
   "cell_type": "code",
   "execution_count": 13,
   "metadata": {},
   "outputs": [],
   "source": [
    "def add(numb, type_doc,name_doc , num_shelf):\n",
    "    if checkShelf_for_doc(num_shelf):\n",
    "        print( 'Такой полки не существует')\n",
    "    else:\n",
    "        new = {'type': type_doc, 'number': numb, 'name': name_doc}\n",
    "        documents.append(new)\n",
    "        directories[num_shelf] += [numb]\n",
    "        print( 'Документ добавлен')"
   ]
  },
  {
   "cell_type": "code",
   "execution_count": 14,
   "metadata": {},
   "outputs": [
    {
     "name": "stdout",
     "output_type": "stream",
     "text": [
      "Введите команду p\n",
      "Введите номер документа\n",
      "11-2\n",
      "Геннадий Покемонов\n",
      "Состояние документов и полок после изменений:\n",
      "{'type': 'passport', 'number': '2207 876234', 'name': 'Василий Гупкин'}\n",
      "{'type': 'invoice', 'number': '11-2', 'name': 'Геннадий Покемонов'}\n",
      "{'type': 'insurance', 'number': '10006', 'name': 'Аристарх Павлов'}\n",
      "1 ['2207 876234', '11-2']\n",
      "2 ['10006']\n",
      "3 []\n"
     ]
    }
   ],
   "source": [
    "def main():\n",
    "    while True:\n",
    "        user_input = input('Введите команду ')\n",
    "        if user_input == 'p':\n",
    "            print('Введите номер документа')\n",
    "            checkName(str(input()))\n",
    "        elif user_input == 's':\n",
    "            print('Введите номер документа')\n",
    "            checkShelf(input())\n",
    "        elif user_input == 'l':\n",
    "            showList()\n",
    "        elif user_input == 'as':\n",
    "            print('Введите номер полки')\n",
    "            addShelf(input())\n",
    "        elif user_input == 'd':\n",
    "            print('Введите номер документа')\n",
    "            delete(str(input()))\n",
    "          \n",
    "        elif user_input == 'm':\n",
    "            print('Введите номер документа и полку')\n",
    "            ndoc=input()\n",
    "            nshelf=input()\n",
    "            move(ndoc,nshelf)\n",
    "        elif user_input == 'add':\n",
    "            print('Введите номер документа, тип документа, имя владельца, номер полки')\n",
    "            new_numb=input()\n",
    "            new_type=input()\n",
    "            new_name=input()\n",
    "            new_shelf=str(input())\n",
    "            add(new_numb,new_type,new_name,new_shelf)\n",
    "        break\n",
    "    print('Состояние документов и полок после изменений:')    \n",
    "    print_documents(documents)\n",
    "    print_directories(directories)\n",
    "main()"
   ]
  },
  {
   "cell_type": "code",
   "execution_count": 15,
   "metadata": {},
   "outputs": [
    {
     "name": "stdout",
     "output_type": "stream",
     "text": [
      "Введите команду s\n",
      "Введите номер документа\n",
      "11-2\n",
      "Полка-  1\n",
      "Состояние документов и полок после изменений:\n",
      "{'type': 'passport', 'number': '2207 876234', 'name': 'Василий Гупкин'}\n",
      "{'type': 'invoice', 'number': '11-2', 'name': 'Геннадий Покемонов'}\n",
      "{'type': 'insurance', 'number': '10006', 'name': 'Аристарх Павлов'}\n",
      "1 ['2207 876234', '11-2']\n",
      "2 ['10006']\n",
      "3 []\n"
     ]
    }
   ],
   "source": [
    "def main():\n",
    "    while True:\n",
    "        user_input = input('Введите команду ')\n",
    "        if user_input == 'p':\n",
    "            print('Введите номер документа')\n",
    "            checkName(str(input()))\n",
    "        elif user_input == 's':\n",
    "            print('Введите номер документа')\n",
    "            checkShelf(input())\n",
    "        elif user_input == 'l':\n",
    "            showList()\n",
    "        elif user_input == 'as':\n",
    "            print('Введите номер полки')\n",
    "            addShelf(input())\n",
    "        elif user_input == 'd':\n",
    "            print('Введите номер документа')\n",
    "            delete(str(input()))\n",
    "          \n",
    "        elif user_input == 'm':\n",
    "            print('Введите номер документа и полку')\n",
    "            ndoc=input()\n",
    "            nshelf=input()\n",
    "            move(ndoc,nshelf)\n",
    "        elif user_input == 'add':\n",
    "            print('Введите номер документа, тип документа, имя владельца, номер полки')\n",
    "            new_numb=input()\n",
    "            new_type=input()\n",
    "            new_name=input()\n",
    "            new_shelf=str(input())\n",
    "            add(new_numb,new_type,new_name,new_shelf)\n",
    "        break\n",
    "    print('Состояние документов и полок после изменений:')    \n",
    "    print_documents(documents)\n",
    "    print_directories(directories)\n",
    "main()"
   ]
  },
  {
   "cell_type": "code",
   "execution_count": 16,
   "metadata": {},
   "outputs": [
    {
     "name": "stdout",
     "output_type": "stream",
     "text": [
      "Введите команду l\n",
      "passport \"2207 876234\" \"Василий Гупкин\" \n",
      "invoice \"11-2\" \"Геннадий Покемонов\" \n",
      "insurance \"10006\" \"Аристарх Павлов\" \n",
      "\n",
      "Состояние документов и полок после изменений:\n",
      "{'type': 'passport', 'number': '2207 876234', 'name': 'Василий Гупкин'}\n",
      "{'type': 'invoice', 'number': '11-2', 'name': 'Геннадий Покемонов'}\n",
      "{'type': 'insurance', 'number': '10006', 'name': 'Аристарх Павлов'}\n",
      "1 ['2207 876234', '11-2']\n",
      "2 ['10006']\n",
      "3 []\n"
     ]
    }
   ],
   "source": [
    "def main():\n",
    "    while True:\n",
    "        user_input = input('Введите команду ')\n",
    "        if user_input == 'p':\n",
    "            print('Введите номер документа')\n",
    "            checkName(str(input()))\n",
    "        elif user_input == 's':\n",
    "            print('Введите номер документа')\n",
    "            checkShelf(input())\n",
    "        elif user_input == 'l':\n",
    "            showList()\n",
    "        elif user_input == 'as':\n",
    "            print('Введите номер полки')\n",
    "            addShelf(input())\n",
    "        elif user_input == 'd':\n",
    "            print('Введите номер документа')\n",
    "            delete(str(input()))\n",
    "          \n",
    "        elif user_input == 'm':\n",
    "            print('Введите номер документа и полку')\n",
    "            ndoc=input()\n",
    "            nshelf=input()\n",
    "            move(ndoc,nshelf)\n",
    "        elif user_input == 'add':\n",
    "            print('Введите номер документа, тип документа, имя владельца, номер полки')\n",
    "            new_numb=input()\n",
    "            new_type=input()\n",
    "            new_name=input()\n",
    "            new_shelf=str(input())\n",
    "            add(new_numb,new_type,new_name,new_shelf)\n",
    "        break\n",
    "    print('Состояние документов и полок после изменений:')    \n",
    "    print_documents(documents)\n",
    "    print_directories(directories)\n",
    "main()"
   ]
  },
  {
   "cell_type": "code",
   "execution_count": 17,
   "metadata": {},
   "outputs": [
    {
     "name": "stdout",
     "output_type": "stream",
     "text": [
      "Введите команду as\n",
      "Введите номер полки\n",
      "5\n",
      "Обновленные полки\n",
      "{'1': ['2207 876234', '11-2'], '2': ['10006'], '3': [], '5': []}\n",
      "Состояние документов и полок после изменений:\n",
      "{'type': 'passport', 'number': '2207 876234', 'name': 'Василий Гупкин'}\n",
      "{'type': 'invoice', 'number': '11-2', 'name': 'Геннадий Покемонов'}\n",
      "{'type': 'insurance', 'number': '10006', 'name': 'Аристарх Павлов'}\n",
      "1 ['2207 876234', '11-2']\n",
      "2 ['10006']\n",
      "3 []\n",
      "5 []\n"
     ]
    }
   ],
   "source": [
    "def main():\n",
    "    while True:\n",
    "        user_input = input('Введите команду ')\n",
    "        if user_input == 'p':\n",
    "            print('Введите номер документа')\n",
    "            checkName(str(input()))\n",
    "        elif user_input == 's':\n",
    "            print('Введите номер документа')\n",
    "            checkShelf(input())\n",
    "        elif user_input == 'l':\n",
    "            showList()\n",
    "        elif user_input == 'as':\n",
    "            print('Введите номер полки')\n",
    "            addShelf(input())\n",
    "        elif user_input == 'd':\n",
    "            print('Введите номер документа')\n",
    "            delete(str(input()))\n",
    "          \n",
    "        elif user_input == 'm':\n",
    "            print('Введите номер документа и полку')\n",
    "            ndoc=input()\n",
    "            nshelf=input()\n",
    "            move(ndoc,nshelf)\n",
    "        elif user_input == 'add':\n",
    "            print('Введите номер документа, тип документа, имя владельца, номер полки')\n",
    "            new_numb=input()\n",
    "            new_type=input()\n",
    "            new_name=input()\n",
    "            new_shelf=str(input())\n",
    "            add(new_numb,new_type,new_name,new_shelf)\n",
    "        break\n",
    "    print('Состояние документов и полок после изменений:')    \n",
    "    print_documents(documents)\n",
    "    print_directories(directories)\n",
    "main()"
   ]
  },
  {
   "cell_type": "code",
   "execution_count": 20,
   "metadata": {},
   "outputs": [
    {
     "name": "stdout",
     "output_type": "stream",
     "text": [
      "Введите команду d\n",
      "Введите номер документа\n",
      "11-2\n",
      "Документ удален\n",
      "Состояние документов и полок после изменений:\n",
      "{'type': 'passport', 'number': '2207 876234', 'name': 'Василий Гупкин'}\n",
      "{'type': 'insurance', 'number': '10006', 'name': 'Аристарх Павлов'}\n",
      "1 ['2207 876234']\n",
      "2 ['10006']\n",
      "3 []\n",
      "5 []\n"
     ]
    }
   ],
   "source": [
    "def main():\n",
    "    while True:\n",
    "        user_input = input('Введите команду ')\n",
    "        if user_input == 'p':\n",
    "            print('Введите номер документа')\n",
    "            checkName(str(input()))\n",
    "        elif user_input == 's':\n",
    "            print('Введите номер документа')\n",
    "            checkShelf(input())\n",
    "        elif user_input == 'l':\n",
    "            showList()\n",
    "        elif user_input == 'as':\n",
    "            print('Введите номер полки')\n",
    "            addShelf(input())\n",
    "        elif user_input == 'd':\n",
    "            print('Введите номер документа')\n",
    "            delete(str(input()))\n",
    "          \n",
    "        elif user_input == 'm':\n",
    "            print('Введите номер документа и полку')\n",
    "            ndoc=input()\n",
    "            nshelf=input()\n",
    "            move(ndoc,nshelf)\n",
    "        elif user_input == 'add':\n",
    "            print('Введите номер документа, тип документа, имя владельца, номер полки')\n",
    "            new_numb=input()\n",
    "            new_type=input()\n",
    "            new_name=input()\n",
    "            new_shelf=str(input())\n",
    "            add(new_numb,new_type,new_name,new_shelf)\n",
    "        break\n",
    "    print('Состояние документов и полок после изменений:')    \n",
    "    print_documents(documents)\n",
    "    print_directories(directories)\n",
    "main()"
   ]
  },
  {
   "cell_type": "code",
   "execution_count": 23,
   "metadata": {},
   "outputs": [
    {
     "name": "stdout",
     "output_type": "stream",
     "text": [
      "Введите команду m\n",
      "Введите номер документа и полку\n",
      "10006\n",
      "5\n",
      "Документ был успешно перенесен\n",
      "Состояние документов и полок после изменений:\n",
      "{'type': 'passport', 'number': '2207 876234', 'name': 'Василий Гупкин'}\n",
      "{'type': 'insurance', 'number': '10006', 'name': 'Аристарх Павлов'}\n",
      "1 ['2207 876234']\n",
      "2 []\n",
      "3 []\n",
      "5 ['10006']\n"
     ]
    }
   ],
   "source": [
    "def main():\n",
    "    while True:\n",
    "        user_input = input('Введите команду ')\n",
    "        if user_input == 'p':\n",
    "            print('Введите номер документа')\n",
    "            checkName(str(input()))\n",
    "        elif user_input == 's':\n",
    "            print('Введите номер документа')\n",
    "            checkShelf(input())\n",
    "        elif user_input == 'l':\n",
    "            showList()\n",
    "        elif user_input == 'as':\n",
    "            print('Введите номер полки')\n",
    "            addShelf(input())\n",
    "        elif user_input == 'd':\n",
    "            print('Введите номер документа')\n",
    "            delete(str(input()))\n",
    "          \n",
    "        elif user_input == 'm':\n",
    "            print('Введите номер документа и полку')\n",
    "            ndoc=input()\n",
    "            nshelf=input()\n",
    "            move(ndoc,nshelf)\n",
    "        elif user_input == 'add':\n",
    "            print('Введите номер документа, тип документа, имя владельца, номер полки')\n",
    "            new_numb=input()\n",
    "            new_type=input()\n",
    "            new_name=input()\n",
    "            new_shelf=str(input())\n",
    "            add(new_numb,new_type,new_name,new_shelf)\n",
    "        break\n",
    "    print('Состояние документов и полок после изменений:')    \n",
    "    print_documents(documents)\n",
    "    print_directories(directories)\n",
    "main()"
   ]
  },
  {
   "cell_type": "code",
   "execution_count": 24,
   "metadata": {},
   "outputs": [
    {
     "name": "stdout",
     "output_type": "stream",
     "text": [
      "Введите команду add\n",
      "Введите номер документа, тип документа, имя владельца, номер полки\n",
      "12345\n",
      "inn\n",
      "regina\n",
      "3\n",
      "Документ добавлен\n",
      "Состояние документов и полок после изменений:\n",
      "{'type': 'passport', 'number': '2207 876234', 'name': 'Василий Гупкин'}\n",
      "{'type': 'insurance', 'number': '10006', 'name': 'Аристарх Павлов'}\n",
      "{'type': 'inn', 'number': '12345', 'name': 'regina'}\n",
      "1 ['2207 876234']\n",
      "2 []\n",
      "3 ['12345']\n",
      "5 ['10006']\n"
     ]
    }
   ],
   "source": [
    "def main():\n",
    "    while True:\n",
    "        user_input = input('Введите команду ')\n",
    "        if user_input == 'p':\n",
    "            print('Введите номер документа')\n",
    "            checkName(str(input()))\n",
    "        elif user_input == 's':\n",
    "            print('Введите номер документа')\n",
    "            checkShelf(input())\n",
    "        elif user_input == 'l':\n",
    "            showList()\n",
    "        elif user_input == 'as':\n",
    "            print('Введите номер полки')\n",
    "            addShelf(input())\n",
    "        elif user_input == 'd':\n",
    "            print('Введите номер документа')\n",
    "            delete(str(input()))\n",
    "          \n",
    "        elif user_input == 'm':\n",
    "            print('Введите номер документа и полку')\n",
    "            ndoc=input()\n",
    "            nshelf=input()\n",
    "            move(ndoc,nshelf)\n",
    "        elif user_input == 'add':\n",
    "            print('Введите номер документа, тип документа, имя владельца, номер полки')\n",
    "            new_numb=input()\n",
    "            new_type=input()\n",
    "            new_name=input()\n",
    "            new_shelf=str(input())\n",
    "            add(new_numb,new_type,new_name,new_shelf)\n",
    "        break\n",
    "    print('Состояние документов и полок после изменений:')    \n",
    "    print_documents(documents)\n",
    "    print_directories(directories)\n",
    "main()"
   ]
  },
  {
   "cell_type": "markdown",
   "metadata": {},
   "source": [
    "Необходимо реализовать пользовательские команды (внимание! это не название функций, которые должны быть выразительными, а команды, которые вводит пользователь, чтобы получить необходимый результат):\n",
    "\n",
    "* p – people – команда, которая спросит номер документа и выведет имя человека, которому он принадлежит;\n",
    "* s – shelf – команда, которая спросит номер документа и выведет номер полки, на которой он находится\n",
    "Правильно обработайте ситуации, когда пользователь будет вводить несуществующий документ.\n",
    "* l – list – команда, которая выведет список всех документов в формате\n",
    "**passport \"2207 876234\" \"Василий Гупкин\"**\n",
    "* as – add shelf – команда, которая спросит номер новой полки и добавит ее в перечень. Предусмотрите случай, когда пользователь добавляет полку, которая уже существует.\n",
    "* d – delete – команда, которая спросит номер документа и удалит его из каталога и из перечня полок. Предусмотрите сценарий, когда пользователь вводит несуществующий документ;\n",
    "* m – move – команда, которая спросит номер документа и целевую полку и переместит его с текущей полки на целевую. Корректно обработайте кейсы, когда пользователь пытается переместить несуществующий документ или переместить документ на несуществующую полку;\n",
    "*  add – команда, которая добавит новый документ в каталог и в перечень полок, спросив его номер, тип, имя владельца и номер полки, на котором он будет храниться. Корректно обработайте ситуацию, когда пользователь будет пытаться добавить документ на несуществующую полку."
   ]
  },
  {
   "cell_type": "code",
   "execution_count": null,
   "metadata": {},
   "outputs": [],
   "source": []
  },
  {
   "cell_type": "code",
   "execution_count": null,
   "metadata": {},
   "outputs": [],
   "source": []
  }
 ],
 "metadata": {
  "kernelspec": {
   "display_name": "Python 3",
   "language": "python",
   "name": "python3"
  },
  "language_info": {
   "codemirror_mode": {
    "name": "ipython",
    "version": 3
   },
   "file_extension": ".py",
   "mimetype": "text/x-python",
   "name": "python",
   "nbconvert_exporter": "python",
   "pygments_lexer": "ipython3",
   "version": "3.8.3"
  }
 },
 "nbformat": 4,
 "nbformat_minor": 4
}
